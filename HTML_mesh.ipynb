{
 "cells": [
  {
   "cell_type": "markdown",
   "id": "ce562414",
   "metadata": {},
   "source": [
    "## Leitura do stl"
   ]
  },
  {
   "cell_type": "code",
   "execution_count": 1,
   "id": "8be83087",
   "metadata": {},
   "outputs": [],
   "source": [
    "#!pip install numpy-stl # numpy-stl - Leitura/manipulação de stl\n",
    "#!pip install plotly # plotly - Gráficos interativos\n",
    "from stl import mesh\n",
    "import plotly.graph_objects as go # plotly\n",
    "import numpy as np # numpy\n",
    "import os"
   ]
  },
  {
   "cell_type": "code",
   "execution_count": 2,
   "id": "2e2bef88",
   "metadata": {},
   "outputs": [],
   "source": [
    "files = os.listdir()\n",
    "stl = []\n",
    "for f in files:\n",
    "    if f[-4:] == '.stl':\n",
    "        stl.append(f)"
   ]
  },
  {
   "cell_type": "code",
   "execution_count": 3,
   "id": "8b9884d0",
   "metadata": {},
   "outputs": [],
   "source": [
    "file = stl[0]"
   ]
  },
  {
   "cell_type": "code",
   "execution_count": 4,
   "id": "5fb1d133",
   "metadata": {},
   "outputs": [],
   "source": [
    "your_mesh = mesh.Mesh.from_file(file)"
   ]
  },
  {
   "cell_type": "code",
   "execution_count": 5,
   "id": "a2536992",
   "metadata": {},
   "outputs": [],
   "source": [
    "def stl2mesh3d(stl_mesh):\n",
    "    p, q, r = stl_mesh.vectors.shape #(p, 3, 3)\n",
    "    vertices, ixr = np.unique(stl_mesh.vectors.reshape(p*q, r), return_inverse=True, axis=0)\n",
    "    I = np.take(ixr, [3*k for k in range(p)])\n",
    "    J = np.take(ixr, [3*k+1 for k in range(p)])\n",
    "    K = np.take(ixr, [3*k+2 for k in range(p)])\n",
    "    return vertices, I, J, K"
   ]
  },
  {
   "cell_type": "code",
   "execution_count": 6,
   "id": "d0b321e1",
   "metadata": {},
   "outputs": [],
   "source": [
    "vertices, I, J, K = stl2mesh3d(your_mesh)\n",
    "x, y, z = vertices.T"
   ]
  },
  {
   "cell_type": "code",
   "execution_count": 7,
   "id": "8255b8c2",
   "metadata": {},
   "outputs": [],
   "source": [
    "fig = go.Figure(data=[go.Mesh3d(x=x, y=y, z=z, i=I, j=J, k=K)])\n",
    "fig.update_layout(width=1500, height=800)\n",
    "fig.write_html(\"mesh.html\")"
   ]
  },
  {
   "cell_type": "code",
   "execution_count": 11,
   "id": "8df20239",
   "metadata": {},
   "outputs": [],
   "source": []
  },
  {
   "cell_type": "code",
   "execution_count": null,
   "id": "130a42c8",
   "metadata": {},
   "outputs": [],
   "source": []
  }
 ],
 "metadata": {
  "kernelspec": {
   "display_name": "Python 3",
   "language": "python",
   "name": "python3"
  },
  "language_info": {
   "codemirror_mode": {
    "name": "ipython",
    "version": 3
   },
   "file_extension": ".py",
   "mimetype": "text/x-python",
   "name": "python",
   "nbconvert_exporter": "python",
   "pygments_lexer": "ipython3",
   "version": "3.8.8"
  }
 },
 "nbformat": 4,
 "nbformat_minor": 5
}
